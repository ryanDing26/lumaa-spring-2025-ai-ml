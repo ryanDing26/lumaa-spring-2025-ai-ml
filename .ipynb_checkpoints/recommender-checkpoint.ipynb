{
 "cells": [
  {
   "cell_type": "markdown",
   "id": "ed3803f6-ced2-4511-87a0-9595a0041abf",
   "metadata": {},
   "source": [
    "# 1. Install necessary requirements"
   ]
  },
  {
   "cell_type": "code",
   "execution_count": null,
   "id": "e487b14a-96d9-4f3f-838a-0b060a8e32be",
   "metadata": {},
   "outputs": [],
   "source": [
    "%pip install -r requirements.txt"
   ]
  },
  {
   "cell_type": "markdown",
   "id": "c866fbe2-6f11-46b9-a25d-40f9da8016b4",
   "metadata": {},
   "source": [
    "[Dataset Link](https://www.kaggle.com/datasets/jrobischon/wikipedia-movie-plots)\n",
    "\n",
    "Gonna prepare deliverables in the morning."
   ]
  },
  {
   "cell_type": "markdown",
   "id": "10bb0330-9be5-4463-8486-78ac227f49ba",
   "metadata": {},
   "source": [
    "# 2. Import necessary libraries"
   ]
  },
  {
   "cell_type": "code",
   "execution_count": 6,
   "id": "0aa0a403-4d3e-4e2d-8909-fed1a0bad214",
   "metadata": {},
   "outputs": [],
   "source": [
    "import sys\n",
    "import numpy as np\n",
    "import pandas as pd\n",
    "from sklearn.feature_extraction.text import TfidfVectorizer\n",
    "from sklearn.metrics.pairwise import cosine_similarity"
   ]
  },
  {
   "cell_type": "markdown",
   "id": "23280c15-13d7-40d6-bef9-5ad5fcc3e1ab",
   "metadata": {},
   "source": [
    "# 3. Implement Content-Based Recommendation Systems\n",
    "\n",
    "**Simple Implementation**: Use TF-IDF vectorization built into sklearn alongside a cosine similarity metric to recommend movies.\n",
    "\n",
    "- **Pros**: Simple, quick, gets the job done.\n",
    "- **Cons**: TF-IDF vectorization is a bag-of-words model; it doesn't take context into account!\n",
    "\n",
    "To improve upon the cons, different implementations like [SBERT](https://sbert.net/) for more contextualized sentence embeddings could be used. However, this model is also more computationally expensive than that of TfidfVectorizer."
   ]
  },
  {
   "cell_type": "code",
   "execution_count": 66,
   "id": "d0dac75f-20ef-4f34-9355-9126dcf0c4c8",
   "metadata": {},
   "outputs": [],
   "source": [
    "def vectorize(text: str, vectorizer: TfidfVectorizer()):\n",
    "    '''\n",
    "    Vectorizes a text given a specified vectorizer. \n",
    "\n",
    "    :param text: Text to be vectorized.\n",
    "    :type text: str\n",
    "    :param vectorizer: Fitted vectorizer to use.\n",
    "    :type vectorizer: TfidfVectorizer()\n",
    "    :returns: Vectorized version of a text.\n",
    "    :rtype: scipy.sparse_matrix\n",
    "    '''\n",
    "    return vectorizer.transform([text])\n",
    "\n",
    "def compute_similarity(a: str, b: str):\n",
    "    '''\n",
    "    Computes the cosine similarity between two items. The cosine similarity formula is as follows:\n",
    "\n",
    "    (a * b) / (||a|| * ||b||)\n",
    "\n",
    "    However, this is implemented via sklearn due to the optimizations it takes using NumPy ndarrays.\n",
    "    This is also compartmentalized due to possible customizations applicable to the similarity metric.\n",
    "    \n",
    "    :param a: First text to compute similarity with.\n",
    "    :type a: str\n",
    "    :param b: Second text to compute similarity with.\n",
    "    :type b: str\n",
    "    :returns: Similarity score between 0 and 1 of the two items\n",
    "    :rtype: ndarray of shape (1, 1)\n",
    "    '''\n",
    "    return cosine_similarity(a, b)\n",
    "    \n",
    "def recommend_movies(df: pd.DataFrame, review: str, vectorizer: TfidfVectorizer(), top_k=5):\n",
    "    '''\n",
    "    Given a user review, recommend movies based on the cosine similarity.\n",
    "\n",
    "    :param df: DataFrame containing movies and corresponding summaries.\n",
    "    :type df: pd.DataFrame\n",
    "    :param review: User sentiment on movies.\n",
    "    :type review: str\n",
    "    :param vectorizer: Trained vectorizer object to transform datapoints.\n",
    "    :type vectorizer: TfIdfVectorizer()\n",
    "    :param top_k: Top K recommendations and scores to return to the user; by default 5.\n",
    "    :type top_k: int\n",
    "    :returns: Top k recommended movies based on a user's review.\n",
    "    :rtype: list of ((movie, plot), similarity score) tuples.\n",
    "    '''\n",
    "    similarities = dict()\n",
    "    vectorized_review = vectorize(review, vectorizer)\n",
    "    for movie in df.itertuples(): similarities[(movie.Title, movie.Plot)] = compute_similarity(vectorized_review, vectorize(movie.Plot, vectorizer))\n",
    "    recommendations = sorted(list(similarities.items()), key=lambda x: x[1], reverse=True)\n",
    "    return recommendations[:top_k]"
   ]
  },
  {
   "cell_type": "code",
   "execution_count": 67,
   "id": "a6ca7789-3d64-4d4b-a26c-a19d33c873a0",
   "metadata": {},
   "outputs": [],
   "source": [
    "def main():\n",
    "    # We take a random subsample of 500 movies and corresponding plots\n",
    "    df = pd.read_csv('movies.csv').drop(['Release Year', 'Origin/Ethnicity', 'Director', 'Cast', 'Genre', 'Wiki Page'], axis=1).sample(n=500, random_state=21)\n",
    "\n",
    "    # Obtain user query\n",
    "    user_review = input('Enter user review here:')\n",
    "    \n",
    "    # Create and fit vectorizer on given data\n",
    "    vectorizer = TfidfVectorizer()\n",
    "    vectorizer.fit_transform(df['Plot'])\n",
    "\n",
    "    # Recommend users movies\n",
    "    user_recommendations = recommend_movies(df, user_review, vectorizer)\n",
    "    for i in range(5): print(f'{i+1}. {user_recommendations[i][0][0]} | Similarity Score: {user_recommendations[i][1].flatten()[0]}')"
   ]
  },
  {
   "cell_type": "code",
   "execution_count": 64,
   "id": "744add82-d3fa-4966-b699-0a1b56d306d0",
   "metadata": {},
   "outputs": [
    {
     "name": "stdin",
     "output_type": "stream",
     "text": [
      "Enter user review here: I like to jump.\n"
     ]
    },
    {
     "name": "stdout",
     "output_type": "stream",
     "text": [
      "1. Thutturi | Similarity Score: 0.07066675571981461\n",
      "2. The Falcon and the Co-eds | Similarity Score: 0.06031695632127222\n",
      "3. Daruchini Dwip | Similarity Score: 0.05966847683344727\n",
      "4. Deiva Magan | Similarity Score: 0.05549725812908711\n",
      "5. Dhoom 3 | Similarity Score: 0.05535900403883018\n"
     ]
    }
   ],
   "source": [
    "if __name__ == '__main__': main()"
   ]
  },
  {
   "cell_type": "code",
   "execution_count": null,
   "id": "083b21d3-afe0-4e0a-95dc-80f454a5e09e",
   "metadata": {},
   "outputs": [],
   "source": []
  }
 ],
 "metadata": {
  "kernelspec": {
   "display_name": "Python 3 (ipykernel)",
   "language": "python",
   "name": "python3"
  },
  "language_info": {
   "codemirror_mode": {
    "name": "ipython",
    "version": 3
   },
   "file_extension": ".py",
   "mimetype": "text/x-python",
   "name": "python",
   "nbconvert_exporter": "python",
   "pygments_lexer": "ipython3",
   "version": "3.10.9"
  }
 },
 "nbformat": 4,
 "nbformat_minor": 5
}
